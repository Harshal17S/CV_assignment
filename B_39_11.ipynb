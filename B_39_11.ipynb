{
 "cells": [
  {
   "cell_type": "code",
   "execution_count": 1,
   "id": "553b2c2a",
   "metadata": {},
   "outputs": [
    {
     "name": "stderr",
     "output_type": "stream",
     "text": [
      "C:\\Users\\hp\\AppData\\Local\\Programs\\Python\\Python311\\Lib\\site-packages\\sklearn\\cluster\\_kmeans.py:1412: FutureWarning: The default value of `n_init` will change from 10 to 'auto' in 1.4. Set the value of `n_init` explicitly to suppress the warning\n",
      "  super()._check_params_vs_input(X, default_n_init=10)\n"
     ]
    },
    {
     "name": "stdout",
     "output_type": "stream",
     "text": [
      "Compiled Feature Vectors (Cluster Centers):\n",
      "[[ 6.545454  12.        12.        ...  5.727272   3.9090915 38.81818  ]\n",
      " [12.         7.199999  25.4       ... 18.800001   4.7999997  6.999999 ]\n",
      " [19.75       9.         4.75      ... 31.499998  26.5       25.       ]\n",
      " ...\n",
      " [ 9.333332   8.666666   2.666667  ... 25.333332   9.666667  34.       ]\n",
      " [32.        71.66667   64.333336  ... 17.        19.666668  21.       ]\n",
      " [ 1.666666   3.333332  29.        ...  4.         1.666666   6.333333 ]]\n"
     ]
    }
   ],
   "source": [
    "import cv2\n",
    "import numpy as np\n",
    "from sklearn.cluster import KMeans\n",
    "\n",
    "# Load images and extract SIFT features\n",
    "image_paths = [\"astro.jpg\", \"green.jpg\", \"lena.jpeg\"]  # Replace with actual image paths\n",
    "sift = cv2.SIFT_create()\n",
    "descriptors_list = []\n",
    "\n",
    "for image_path in image_paths:\n",
    "    image = cv2.imread(image_path, cv2.IMREAD_GRAYSCALE)\n",
    "    _, descriptors = sift.detectAndCompute(image, None)\n",
    "    descriptors_list.append(descriptors)\n",
    "\n",
    "# Stack the descriptors to create a feature matrix\n",
    "feature_matrix = np.vstack(descriptors_list)\n",
    "\n",
    "# Perform K-Means clustering\n",
    "num_clusters = 100  # Adjust the number of clusters as needed\n",
    "kmeans = KMeans(n_clusters=num_clusters, random_state=0)\n",
    "kmeans.fit(feature_matrix)\n",
    "\n",
    "# Get cluster centers (reduced feature vectors)\n",
    "cluster_centers = kmeans.cluster_centers_\n",
    "\n",
    "# Now you can use cluster_centers as your compiled feature vectors\n",
    "print(\"Compiled Feature Vectors (Cluster Centers):\")\n",
    "print(cluster_centers)\n"
   ]
  },
  {
   "cell_type": "code",
   "execution_count": 11,
   "id": "66319d20",
   "metadata": {},
   "outputs": [
    {
     "name": "stderr",
     "output_type": "stream",
     "text": [
      "C:\\Users\\hp\\AppData\\Local\\Programs\\Python\\Python311\\Lib\\site-packages\\sklearn\\cluster\\_kmeans.py:1412: FutureWarning: The default value of `n_init` will change from 10 to 'auto' in 1.4. Set the value of `n_init` explicitly to suppress the warning\n",
      "  super()._check_params_vs_input(X, default_n_init=10)\n"
     ]
    },
    {
     "name": "stdout",
     "output_type": "stream",
     "text": [
      "Compiled Feature Vectors (Cluster Centers):\n",
      "[[ 20.          38.75        65.8125     ...  10.5          4.375\n",
      "   12.4375    ]\n",
      " [ 70.          41.14286     13.785713   ...   6.928571    15.928572\n",
      "   38.214287  ]\n",
      " [116.63637     26.636364     1.1363649  ...   7.954545     0.18181896\n",
      "    1.772728  ]\n",
      " ...\n",
      " [ 10.9          9.95         8.75       ...   4.3499994    5.6\n",
      "   37.45      ]\n",
      " [ 16.625002    26.1875      39.500004   ...   9.5625      10.375\n",
      "   14.        ]\n",
      " [ 57.812504    39.5625      17.5625     ...   9.125       11.0625\n",
      "   29.6875    ]]\n"
     ]
    }
   ],
   "source": [
    "import cv2\n",
    "import os\n",
    "import numpy as np\n",
    "from sklearn.cluster import KMeans\n",
    "\n",
    "# Set the path to the folder containing your images\n",
    "image_folder = \"C:/Users/hp/OneDrive/Desktop/Python/image\"\n",
    "num_clusters = 100  # Number of clusters for K-Means\n",
    "\n",
    "# Initialize SIFT\n",
    "sift = cv2.SIFT_create()\n",
    "\n",
    "# List to store descriptors from all images\n",
    "descriptors_list = []\n",
    "\n",
    "# Loop through all image files in the folder\n",
    "for filename in os.listdir(image_folder):\n",
    "    if filename.endswith(\".jpg\"):\n",
    "        image_path = os.path.join(image_folder, filename)\n",
    "        image = cv2.imread(image_path, cv2.IMREAD_GRAYSCALE)\n",
    "        _, descriptors = sift.detectAndCompute(image, None)\n",
    "        if descriptors is not None:\n",
    "            descriptors_list.append(descriptors)\n",
    "\n",
    "# Stack the descriptors to create a feature matrix\n",
    "if descriptors_list:\n",
    "    feature_matrix = np.vstack(descriptors_list)\n",
    "\n",
    "    # Perform K-Means clustering\n",
    "    kmeans = KMeans(n_clusters=num_clusters, random_state=0)\n",
    "    kmeans.fit(feature_matrix)\n",
    "\n",
    "    # Get cluster centers (reduced feature vectors)\n",
    "    cluster_centers = kmeans.cluster_centers_\n",
    "\n",
    "    # Now you can use cluster_centers as your compiled feature vectors\n",
    "    print(\"Compiled Feature Vectors (Cluster Centers):\")\n",
    "    print(cluster_centers)\n",
    "else:\n",
    "    print(\"No descriptors found. Check if the image folder contains valid images.\")\n"
   ]
  },
  {
   "cell_type": "code",
   "execution_count": null,
   "id": "c8ace6f1",
   "metadata": {},
   "outputs": [],
   "source": []
  }
 ],
 "metadata": {
  "kernelspec": {
   "display_name": "Python 3 (ipykernel)",
   "language": "python",
   "name": "python3"
  },
  "language_info": {
   "codemirror_mode": {
    "name": "ipython",
    "version": 3
   },
   "file_extension": ".py",
   "mimetype": "text/x-python",
   "name": "python",
   "nbconvert_exporter": "python",
   "pygments_lexer": "ipython3",
   "version": "3.11.4"
  }
 },
 "nbformat": 4,
 "nbformat_minor": 5
}
