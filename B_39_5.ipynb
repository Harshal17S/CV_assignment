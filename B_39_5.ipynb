{
 "cells": [
  {
   "cell_type": "code",
   "execution_count": 6,
   "id": "503e6827",
   "metadata": {},
   "outputs": [],
   "source": [
    "import cv2\n",
    "import numpy as np\n",
    "import matplotlib.pyplot as plt"
   ]
  },
  {
   "cell_type": "code",
   "execution_count": 7,
   "id": "1eb8c74c",
   "metadata": {},
   "outputs": [],
   "source": [
    "def IntensityWB(path):\n",
    "    image = cv2.imread(\"astro.jpg\")\n",
    "    cv2.imshow(\"Original\", image)\n",
    "    cv2.waitKey(0)\n",
    "\n",
    "    newImage = image.copy()\n",
    "    \n",
    "    m, n, _ = newImage.shape\n",
    "\n",
    "    for i in range(m):\n",
    "        for j in range(n):\n",
    "            if newImage[i, j, 0] > 50 and newImage[i, j, 0] < 100:  \n",
    "                newImage[i, j] = [255, 255, 255]  \n",
    "            else:\n",
    "                newImage[i, j] = [0, 0, 0]  \n",
    "\n",
    "    return newImage"
   ]
  },
  {
   "cell_type": "code",
   "execution_count": 8,
   "id": "63d6d6da",
   "metadata": {},
   "outputs": [],
   "source": [
    "result = IntensityWB(\"astro.jpg\")\n",
    "\n",
    "cv2.imshow(\"Modified\", result)\n",
    "cv2.waitKey(0)\n",
    "cv2.destroyAllWindows()"
   ]
  },
  {
   "cell_type": "code",
   "execution_count": 8,
   "id": "f3a7dcea",
   "metadata": {},
   "outputs": [],
   "source": [
    "def IntensityB(path):\n",
    "    \n",
    "    image = cv2.imread(\"astro.jpg\",0)\n",
    "    cv2.imshow(\"Original\", image)\n",
    "    cv2.waitKey(0)\n",
    "\n",
    "    newImage = image.copy()\n",
    "    \n",
    "    m, n = newImage.shape\n",
    "\n",
    "    for i in range(m):\n",
    "        for j in range(n):\n",
    "            if newImage[i, j] > 50 and newImage[i, j] < 100:  \n",
    "                newImage[i, j] = 255  \n",
    "            else:\n",
    "                newImage[i, j] = image[i][j]\n",
    "\n",
    "    return newImage"
   ]
  },
  {
   "cell_type": "code",
   "execution_count": 9,
   "id": "a6ca4f56",
   "metadata": {
    "scrolled": true
   },
   "outputs": [],
   "source": [
    "result1 = IntensityB(\"astro.jpg\")\n",
    "\n",
    "cv2.imshow(\"Modified2\", result1)\n",
    "cv2.waitKey(0)\n",
    "cv2.destroyAllWindows()"
   ]
  },
  {
   "cell_type": "code",
   "execution_count": 1,
   "id": "70e60d31",
   "metadata": {},
   "outputs": [],
   "source": [
    "def Log(path):\n",
    "    \n",
    "    image=cv2.imread(\"astro.jpg\")\n",
    "    cv2.imshow(\"Original\", image)\n",
    "    \n",
    "    image_log = (np.log(image+1)/(np.log(1+np.max(image))))*255\n",
    "    image_log = np.array(image_log,dtype=np.uint8)\n",
    "    \n",
    "    return image_log"
   ]
  },
  {
   "cell_type": "code",
   "execution_count": null,
   "id": "84d6fa83",
   "metadata": {},
   "outputs": [],
   "source": [
    "result = Log(\"astro.jpg\")\n",
    "cv2.imshow(\"Log Transformed\", result)\n",
    "cv2.waitKey(0)\n",
    "cv2.destroyAllWindows()"
   ]
  },
  {
   "cell_type": "code",
   "execution_count": 7,
   "id": "49bdcd0f",
   "metadata": {},
   "outputs": [],
   "source": [
    "def PowerLaw(path):\n",
    "    \n",
    "    image=cv2.imread(path)\n",
    "    cv2.imshow(\"Original\", image)\n",
    "    gamma=float(input(\"enter gamma value: \"))\n",
    "    gamma_corrected = np.array(255*(image/255) ** gamma, dtype=\"uint8\")\n",
    "    \n",
    "    cv2.imshow(\"Gamma Corrected\", gamma_corrected)\n",
    "    cv2.waitKey(0)\n",
    "    cv2.destroyAllWindows()"
   ]
  },
  {
   "cell_type": "code",
   "execution_count": null,
   "id": "602113a4",
   "metadata": {},
   "outputs": [],
   "source": [
    "result = PowerLaw(\"astro.jpg\")\n",
    "cv2.imshow(\"power law Transformation\", result)\n",
    "cv2.waitKey(0)\n",
    "cv2.destroyAllWindows()"
   ]
  },
  {
   "cell_type": "markdown",
   "id": "f40a6f1c",
   "metadata": {},
   "source": [
    "# "
   ]
  }
 ],
 "metadata": {
  "kernelspec": {
   "display_name": "Python 3 (ipykernel)",
   "language": "python",
   "name": "python3"
  },
  "language_info": {
   "codemirror_mode": {
    "name": "ipython",
    "version": 3
   },
   "file_extension": ".py",
   "mimetype": "text/x-python",
   "name": "python",
   "nbconvert_exporter": "python",
   "pygments_lexer": "ipython3",
   "version": "3.11.4"
  }
 },
 "nbformat": 4,
 "nbformat_minor": 5
}
