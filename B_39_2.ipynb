{
 "cells": [
  {
   "cell_type": "code",
   "execution_count": 1,
   "id": "ecc9c6dc",
   "metadata": {},
   "outputs": [],
   "source": [
    "import cv2\n",
    "import numpy as np\n",
    "import matplotlib.pyplot as plt"
   ]
  },
  {
   "cell_type": "markdown",
   "id": "23496ec9",
   "metadata": {},
   "source": [
    "# Read An Image\n"
   ]
  },
  {
   "cell_type": "code",
   "execution_count": 2,
   "id": "55110eee",
   "metadata": {},
   "outputs": [],
   "source": [
    "img1=cv2.imread(\"astro.jpg\")\n",
    "\n",
    "img2=cv2.imread(\"nature.jpg\")"
   ]
  },
  {
   "cell_type": "markdown",
   "id": "4b00f018",
   "metadata": {},
   "source": [
    "# Numpy Addition\n"
   ]
  },
  {
   "cell_type": "code",
   "execution_count": 12,
   "id": "318df83f",
   "metadata": {},
   "outputs": [],
   "source": [
    "addition= img1+img2\n",
    "cv2.imshow(\"Addition\",addition)\n",
    "cv2.waitKey(0)\n",
    "cv2.destroyAllWindows()"
   ]
  },
  {
   "cell_type": "code",
   "execution_count": null,
   "id": "f03a400e",
   "metadata": {},
   "outputs": [],
   "source": [
    "from PIL import Image\n",
    "add= img1+img2\n",
    "cv2.imshow(\"Images\",add)\n",
    "cv2.waitKey(0)\n",
    "cv2.destroyAllWindows()"
   ]
  },
  {
   "cell_type": "code",
   "execution_count": 7,
   "id": "b1ddae8a",
   "metadata": {},
   "outputs": [
    {
     "ename": "AttributeError",
     "evalue": "module 'cv2' has no attribute 'destoryAllWindows'",
     "output_type": "error",
     "traceback": [
      "\u001b[1;31m---------------------------------------------------------------------------\u001b[0m",
      "\u001b[1;31mAttributeError\u001b[0m                            Traceback (most recent call last)",
      "Cell \u001b[1;32mIn[7], line 4\u001b[0m\n\u001b[0;32m      2\u001b[0m cv2\u001b[38;5;241m.\u001b[39mimshow(\u001b[38;5;124m\"\u001b[39m\u001b[38;5;124mImage after numpy addition\u001b[39m\u001b[38;5;124m\"\u001b[39m, addition )\n\u001b[0;32m      3\u001b[0m cv2\u001b[38;5;241m.\u001b[39mwaitKey(\u001b[38;5;241m0\u001b[39m)\n\u001b[1;32m----> 4\u001b[0m \u001b[43mcv2\u001b[49m\u001b[38;5;241;43m.\u001b[39;49m\u001b[43mdestoryAllWindows\u001b[49m()\n",
      "\u001b[1;31mAttributeError\u001b[0m: module 'cv2' has no attribute 'destoryAllWindows'"
     ]
    }
   ],
   "source": [
    "addition = cv2.add(img1,img2)\n",
    "cv2.imshow(\"Image after numpy addition\", addition )\n",
    "cv2.waitKey(0)\n",
    "cv2.destoryAllWindows()"
   ]
  },
  {
   "cell_type": "markdown",
   "id": "a426722c",
   "metadata": {},
   "source": [
    "# Numpy Subtraction\n"
   ]
  },
  {
   "cell_type": "code",
   "execution_count": 13,
   "id": "e9019558",
   "metadata": {},
   "outputs": [],
   "source": [
    "sub= img1-img2\n",
    "cv2.imshow(\"Addition\",sub)\n",
    "cv2.waitKey(0)\n",
    "cv2.destroyAllWindows()\n"
   ]
  },
  {
   "cell_type": "code",
   "execution_count": 8,
   "id": "ab8cb2a9",
   "metadata": {},
   "outputs": [],
   "source": [
    "sub= cv2.subtract(img1, img2)\n",
    "cv2.imshow(\"Addition\",sub)\n",
    "cv2.waitKey(0)\n",
    "cv2.destroyAllWindows()"
   ]
  },
  {
   "cell_type": "markdown",
   "id": "f26492fc",
   "metadata": {},
   "source": [
    "# Image Multiplication\n"
   ]
  },
  {
   "cell_type": "code",
   "execution_count": 14,
   "id": "d4acab89",
   "metadata": {},
   "outputs": [],
   "source": [
    "sub= img1*img2\n",
    "cv2.imshow(\"Addition\",sub)\n",
    "cv2.waitKey(0)\n",
    "cv2.destroyAllWindows()"
   ]
  },
  {
   "cell_type": "markdown",
   "id": "d8a6029f",
   "metadata": {},
   "source": [
    "# Numpy Division\n"
   ]
  },
  {
   "cell_type": "code",
   "execution_count": 15,
   "id": "3fbcc7a9",
   "metadata": {},
   "outputs": [
    {
     "name": "stderr",
     "output_type": "stream",
     "text": [
      "C:\\Users\\hp\\AppData\\Local\\Temp\\ipykernel_4044\\3614989093.py:1: RuntimeWarning: divide by zero encountered in floor_divide\n",
      "  div= img2 // img1\n"
     ]
    }
   ],
   "source": [
    "div= img2 // img1\n",
    "cv2.imshow(\"division\",div)\n",
    "cv2.waitKey(0)\n",
    "cv2.destroyAllWindows()"
   ]
  },
  {
   "cell_type": "code",
   "execution_count": 5,
   "id": "225d840f",
   "metadata": {},
   "outputs": [],
   "source": [
    "def cv_division(sub1, sub2):\n",
    "    division = cv2.divide(sub1, sub2)\n",
    "    cv2.imshow(\"Image after numpy division\", division)\n",
    "    cv2.waitKey(6000)\n",
    "    cv2.destroyAllWindows()"
   ]
  },
  {
   "cell_type": "code",
   "execution_count": null,
   "id": "9bb1b7dd",
   "metadata": {},
   "outputs": [],
   "source": []
  }
 ],
 "metadata": {
  "kernelspec": {
   "display_name": "Python 3 (ipykernel)",
   "language": "python",
   "name": "python3"
  },
  "language_info": {
   "codemirror_mode": {
    "name": "ipython",
    "version": 3
   },
   "file_extension": ".py",
   "mimetype": "text/x-python",
   "name": "python",
   "nbconvert_exporter": "python",
   "pygments_lexer": "ipython3",
   "version": "3.11.4"
  }
 },
 "nbformat": 4,
 "nbformat_minor": 5
}
